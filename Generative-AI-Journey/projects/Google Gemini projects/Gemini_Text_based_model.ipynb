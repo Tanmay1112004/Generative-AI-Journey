{
  "nbformat": 4,
  "nbformat_minor": 0,
  "metadata": {
    "colab": {
      "provenance": []
    },
    "kernelspec": {
      "name": "python3",
      "display_name": "Python 3"
    },
    "language_info": {
      "name": "python"
    }
  },
  "cells": [
    {
      "cell_type": "code",
      "execution_count": 1,
      "metadata": {
        "id": "mkCMsDobUqNc"
      },
      "outputs": [],
      "source": [
        "!pip install -q -U google-generativeai"
      ]
    },
    {
      "cell_type": "code",
      "source": [
        "import google.generativeai as genai\n",
        "genai.configure(api_key=\"ENTER_API_KEY\")\n",
        "\n",
        "model = genai.GenerativeModel(\"gemini-2.5-flash\")\n",
        "\n",
        "response = model.generate_content(\"what is the difference between ai vs gen ai vs agentic ai\")\n",
        "print(response.text)"
      ],
      "metadata": {
        "colab": {
          "base_uri": "https://localhost:8080/",
          "height": 1000
        },
        "id": "EhzjOEOUUrX7",
        "outputId": "e16a57c6-dcbb-483b-cd52-e0471b8f6bb0"
      },
      "execution_count": 2,
      "outputs": [
        {
          "output_type": "stream",
          "name": "stdout",
          "text": [
            "Let's break down the differences between AI, Generative AI, and Agentic AI, as they represent progressively narrower (or more specific) concepts, with Agentic AI often building upon Generative AI.\n",
            "\n",
            "---\n",
            "\n",
            "### 1. Artificial Intelligence (AI)\n",
            "\n",
            "*   **What it is:** AI is the **broadest umbrella term**. It refers to the simulation of human intelligence in machines that are programmed to think like humans and mimic their actions.\n",
            "*   **Core Goal:** To enable machines to perform tasks that typically require human intelligence, such as learning, problem-solving, decision-making, understanding language, and perception.\n",
            "*   **Scope:** Encompasses everything from simple rule-based systems to complex neural networks. It includes various subfields like machine learning (ML), deep learning (DL), natural language processing (NLP), computer vision, robotics, expert systems, and more.\n",
            "*   **Examples:**\n",
            "    *   Recommendation engines (Netflix, Amazon)\n",
            "    *   Search engine algorithms\n",
            "    *   Spam filters\n",
            "    *   Autonomous vehicles\n",
            "    *   Chess-playing computers\n",
            "    *   Any system that exhibits intelligent behavior.\n",
            "\n",
            "---\n",
            "\n",
            "### 2. Generative AI (Gen AI)\n",
            "\n",
            "*   **What it is:** Generative AI is a **specific subset of AI** focused on creating *new, original content* that has not existed before. Unlike traditional AI models that classify, predict, or analyze existing data, Gen AI generates novel outputs based on the patterns it learned from vast datasets.\n",
            "*   **Core Function:** To \"generate\" or \"create\" outputs, rather than just identify or process existing ones.\n",
            "*   **How it Works:** Typically uses deep learning models like Large Language Models (LLMs) for text, Diffusion Models for images, Generative Adversarial Networks (GANs), and transformers.\n",
            "*   **Scope:** Primarily deals with content creation across various modalities.\n",
            "*   **Examples:**\n",
            "    *   **Text:** ChatGPT, Bard (generating articles, stories, code, summaries, conversations)\n",
            "    *   **Images:** DALL-E, Midjourney, Stable Diffusion (creating photorealistic images, art, designs from text prompts)\n",
            "    *   **Audio:** Generating music, voiceovers, sound effects.\n",
            "    *   **Video:** Creating short video clips from text or images.\n",
            "    *   **Code:** Generating programming code snippets or entire functions.\n",
            "\n",
            "---\n",
            "\n",
            "### 3. Agentic AI (AI Agents or Agent-based AI)\n",
            "\n",
            "*   **What it is:** Agentic AI refers to AI systems designed to act as **autonomous agents** that can perceive their environment, reason, plan, and execute actions to achieve specific goals, often without constant human intervention. They are goal-oriented, proactive, and can interact dynamically with their environment and tools.\n",
            "*   **Core Function:** To *act* autonomously and execute complex tasks by breaking them down into sub-goals, using tools, and adapting to feedback.\n",
            "*   **How it Works:** An agentic AI typically has:\n",
            "    *   **Memory:** To retain context and past interactions.\n",
            "    *   **Perception:** To understand its current environment (e.g., interpret natural language instructions, read web pages, process sensor data).\n",
            "    *   **Reasoning/Planning:** To figure out what steps to take to achieve a goal. This is where Generative AI (especially LLMs) is often used as the \"brain.\"\n",
            "    *   **Action:** To interact with the world (e.g., make API calls, browse the internet, write code, control robots, send emails).\n",
            "    *   **Tool Use:** The ability to leverage various external tools and APIs.\n",
            "    *   **Reflection/Learning:** To evaluate its actions and improve over time.\n",
            "*   **Scope:** Focuses on task automation, goal achievement, and proactive problem-solving.\n",
            "*   **Examples:**\n",
            "    *   **AutoGPT, BabyAGI:** Early examples that can set and pursue goals, break them down, and use the internet to gather information and execute steps.\n",
            "    *   **Autonomous Research Agents:** Given a topic, they can browse the web, synthesize information, and write a report.\n",
            "    *   **Personal Assistants that book travel:** Not just answering questions, but proactively searching flights, comparing prices, making reservations, and managing itineraries.\n",
            "    *   **Coding Agents:** Given a project brief, they might write, test, and debug code to deliver a functioning application.\n",
            "    *   **Robots:** A robot navigating a complex environment to deliver a package, perceiving obstacles, planning routes, and executing movements.\n",
            "\n",
            "---\n",
            "\n",
            "### Key Differences & Relationships:\n",
            "\n",
            "1.  **AI (Broadest):** The entire field of making machines intelligent.\n",
            "    *   *Analogy:* The entire human brain and its capabilities.\n",
            "\n",
            "2.  **Generative AI (Subset of AI, focuses on creation):** A specific type of AI technology that creates new content.\n",
            "    *   *Analogy:* The creative part of the brain – imagination, ability to speak, write, draw, compose music.\n",
            "\n",
            "3.  **Agentic AI (Subset of AI, focuses on autonomous action and goal achievement):** An architecture or paradigm for AI systems that can independently perceive, plan, and act to achieve a goal.\n",
            "    *   *Relationship with Gen AI:* Agentic AI *frequently uses* Generative AI (especially LLMs) as its reasoning engine or \"brain\" to understand instructions, plan steps, and generate actions or code. An Agentic AI might use a Gen AI model to *generate* the next step in its plan, or to *generate* a query for a search engine, or to *generate* code to solve a problem.\n",
            "    *   *Analogy:* A person who sets a goal, uses their creative brain (Gen AI) to brainstorm solutions, and then uses their hands and tools to execute the plan in the real world.\n",
            "\n",
            "**In essence:**\n",
            "\n",
            "*   All three are forms of **AI**.\n",
            "*   **Generative AI** is a *technology* for creating new things.\n",
            "*   **Agentic AI** is a *system design* for autonomous action, often leveraging Generative AI for its intelligent reasoning and content creation capabilities.\n"
          ]
        }
      ]
    },
    {
      "cell_type": "code",
      "source": [],
      "metadata": {
        "id": "7kPNrwETUrbX"
      },
      "execution_count": null,
      "outputs": []
    },
    {
      "cell_type": "code",
      "source": [
        "# List of the models\n",
        "\n",
        "for m in genai.list_models():\n",
        "  if 'generateContent' in m.supported_generation_methods:\n",
        "    print(m.name)"
      ],
      "metadata": {
        "colab": {
          "base_uri": "https://localhost:8080/",
          "height": 850
        },
        "id": "sc_BTvdTUrep",
        "outputId": "741c4838-9ba0-4143-d5a4-cbaa7968a36b"
      },
      "execution_count": 3,
      "outputs": [
        {
          "output_type": "stream",
          "name": "stdout",
          "text": [
            "models/gemini-1.5-pro-latest\n",
            "models/gemini-1.5-pro-002\n",
            "models/gemini-1.5-pro\n",
            "models/gemini-1.5-flash-latest\n",
            "models/gemini-1.5-flash\n",
            "models/gemini-1.5-flash-002\n",
            "models/gemini-1.5-flash-8b\n",
            "models/gemini-1.5-flash-8b-001\n",
            "models/gemini-1.5-flash-8b-latest\n",
            "models/gemini-2.5-pro-preview-03-25\n",
            "models/gemini-2.5-flash-preview-05-20\n",
            "models/gemini-2.5-flash\n",
            "models/gemini-2.5-flash-lite-preview-06-17\n",
            "models/gemini-2.5-pro-preview-05-06\n",
            "models/gemini-2.5-pro-preview-06-05\n",
            "models/gemini-2.5-pro\n",
            "models/gemini-2.0-flash-exp\n",
            "models/gemini-2.0-flash\n",
            "models/gemini-2.0-flash-001\n",
            "models/gemini-2.0-flash-exp-image-generation\n",
            "models/gemini-2.0-flash-lite-001\n",
            "models/gemini-2.0-flash-lite\n",
            "models/gemini-2.0-flash-preview-image-generation\n",
            "models/gemini-2.0-flash-lite-preview-02-05\n",
            "models/gemini-2.0-flash-lite-preview\n",
            "models/gemini-2.0-pro-exp\n",
            "models/gemini-2.0-pro-exp-02-05\n",
            "models/gemini-exp-1206\n",
            "models/gemini-2.0-flash-thinking-exp-01-21\n",
            "models/gemini-2.0-flash-thinking-exp\n",
            "models/gemini-2.0-flash-thinking-exp-1219\n",
            "models/gemini-2.5-flash-preview-tts\n",
            "models/gemini-2.5-pro-preview-tts\n",
            "models/learnlm-2.0-flash-experimental\n",
            "models/gemma-3-1b-it\n",
            "models/gemma-3-4b-it\n",
            "models/gemma-3-12b-it\n",
            "models/gemma-3-27b-it\n",
            "models/gemma-3n-e4b-it\n",
            "models/gemma-3n-e2b-it\n",
            "models/gemini-flash-latest\n",
            "models/gemini-flash-lite-latest\n",
            "models/gemini-pro-latest\n",
            "models/gemini-2.5-flash-lite\n",
            "models/gemini-2.5-flash-image-preview\n",
            "models/gemini-2.5-flash-preview-09-2025\n",
            "models/gemini-2.5-flash-lite-preview-09-2025\n",
            "models/gemini-robotics-er-1.5-preview\n"
          ]
        }
      ]
    },
    {
      "cell_type": "code",
      "source": [],
      "metadata": {
        "id": "HiTlD8n8Urhn"
      },
      "execution_count": null,
      "outputs": []
    },
    {
      "cell_type": "code",
      "source": [],
      "metadata": {
        "id": "qN4Loh3BUrne"
      },
      "execution_count": null,
      "outputs": []
    },
    {
      "cell_type": "code",
      "source": [],
      "metadata": {
        "id": "KeXI4uexVaEv"
      },
      "execution_count": null,
      "outputs": []
    },
    {
      "cell_type": "code",
      "source": [],
      "metadata": {
        "id": "uzDjonclVaAY"
      },
      "execution_count": null,
      "outputs": []
    },
    {
      "cell_type": "code",
      "source": [],
      "metadata": {
        "id": "QWiHxgO7VZ8b"
      },
      "execution_count": null,
      "outputs": []
    },
    {
      "cell_type": "code",
      "source": [],
      "metadata": {
        "id": "cqecZ8DQVZ5G"
      },
      "execution_count": null,
      "outputs": []
    },
    {
      "cell_type": "code",
      "source": [],
      "metadata": {
        "id": "Fe_zZEoBVZ2D"
      },
      "execution_count": null,
      "outputs": []
    },
    {
      "cell_type": "code",
      "source": [],
      "metadata": {
        "id": "Bd1jps09VZyq"
      },
      "execution_count": null,
      "outputs": []
    },
    {
      "cell_type": "code",
      "source": [],
      "metadata": {
        "id": "1m5QaAljVZvi"
      },
      "execution_count": null,
      "outputs": []
    }
  ]
}