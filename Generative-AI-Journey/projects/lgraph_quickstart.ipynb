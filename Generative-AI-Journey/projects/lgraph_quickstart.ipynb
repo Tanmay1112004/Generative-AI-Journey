{
  "cells": [
    {
      "cell_type": "code",
      "execution_count": null,
      "id": "1c3f4b98",
      "metadata": {
        "id": "1c3f4b98"
      },
      "outputs": [],
      "source": [
        "pip install -U langgraph"
      ]
    },
    {
      "cell_type": "code",
      "execution_count": 2,
      "id": "c5f1a013",
      "metadata": {
        "id": "c5f1a013"
      },
      "outputs": [],
      "source": [
        "from langgraph.graph import StateGraph, END\n",
        "from typing import TypedDict\n",
        "from IPython.display import Image, display"
      ]
    },
    {
      "cell_type": "code",
      "execution_count": 3,
      "id": "3470747f",
      "metadata": {
        "id": "3470747f"
      },
      "outputs": [],
      "source": [
        "class MyState(TypedDict):\n",
        "    message: str\n",
        "\n",
        "# Define the start node\n",
        "def start_node(state: MyState) -> MyState:\n",
        "    print(\"Start node received:\", state[\"message\"])\n",
        "    # Process or pass the message to the end node\n",
        "    return {\"message\": state[\"message\"] + \" -> processed by start\"}\n",
        "\n",
        "# Define the end node\n",
        "def end_node(state: MyState) -> MyState:\n",
        "    print(\"End node received:\", state[\"message\"])\n",
        "    return state\n",
        "\n",
        "# Build the graph\n",
        "builder = StateGraph(MyState)\n",
        "\n",
        "\n",
        "# Define the end node\n",
        "def end_node(state: MyState) -> MyState:\n",
        "    print(\"End node received:\", state[\"message\"])\n",
        "    return state"
      ]
    },
    {
      "cell_type": "code",
      "execution_count": 4,
      "id": "2d390ef9",
      "metadata": {
        "id": "2d390ef9"
      },
      "outputs": [],
      "source": [
        "# Build the graph\n",
        "builder = StateGraph(MyState)"
      ]
    },
    {
      "cell_type": "code",
      "execution_count": 5,
      "id": "c00d9666",
      "metadata": {
        "colab": {
          "base_uri": "https://localhost:8080/"
        },
        "id": "c00d9666",
        "outputId": "7a4d2f81-aa6d-4754-9ec4-1819eaab18e6"
      },
      "outputs": [
        {
          "output_type": "execute_result",
          "data": {
            "text/plain": [
              "<langgraph.graph.state.StateGraph at 0x7d88f28cbd40>"
            ]
          },
          "metadata": {},
          "execution_count": 5
        }
      ],
      "source": [
        "# Add nodes\n",
        "builder.add_node(\"start\", start_node)\n",
        "builder.add_node(\"end\", end_node)"
      ]
    },
    {
      "cell_type": "code",
      "execution_count": 6,
      "id": "98621eed",
      "metadata": {
        "colab": {
          "base_uri": "https://localhost:8080/"
        },
        "id": "98621eed",
        "outputId": "a8f2478e-c5a2-4f14-c78c-80b2961a56ee"
      },
      "outputs": [
        {
          "output_type": "execute_result",
          "data": {
            "text/plain": [
              "<langgraph.graph.state.StateGraph at 0x7d88f28cbd40>"
            ]
          },
          "metadata": {},
          "execution_count": 6
        }
      ],
      "source": [
        "# Define the flow\n",
        "builder.set_entry_point(\"start\")\n",
        "builder.add_edge(\"start\", \"end\")\n",
        "builder.add_edge(\"end\", END)  # END is a special marker for graph completion\n"
      ]
    },
    {
      "cell_type": "code",
      "execution_count": 7,
      "id": "96136c57",
      "metadata": {
        "colab": {
          "base_uri": "https://localhost:8080/"
        },
        "id": "96136c57",
        "outputId": "19092365-16c2-4619-c0f9-d8b69917d408"
      },
      "outputs": [
        {
          "output_type": "stream",
          "name": "stdout",
          "text": [
            "Start node received: Hello LangGraph\n",
            "End node received: Hello LangGraph -> processed by start\n",
            "Final result: Hello LangGraph -> processed by start\n"
          ]
        }
      ],
      "source": [
        "# Compile the graph\n",
        "graph = builder.compile()\n",
        "\n",
        "# Run the graph\n",
        "result = graph.invoke({\"message\": \"Hello LangGraph\"})\n",
        "print(\"Final result:\", result[\"message\"])"
      ]
    },
    {
      "cell_type": "code",
      "execution_count": null,
      "id": "80a7303f",
      "metadata": {
        "id": "80a7303f"
      },
      "outputs": [],
      "source": []
    }
  ],
  "metadata": {
    "kernelspec": {
      "display_name": "Python 3",
      "language": "python",
      "name": "python3"
    },
    "language_info": {
      "codemirror_mode": {
        "name": "ipython",
        "version": 3
      },
      "file_extension": ".py",
      "mimetype": "text/x-python",
      "name": "python",
      "nbconvert_exporter": "python",
      "pygments_lexer": "ipython3",
      "version": "3.13.5"
    },
    "colab": {
      "provenance": []
    }
  },
  "nbformat": 4,
  "nbformat_minor": 5
}